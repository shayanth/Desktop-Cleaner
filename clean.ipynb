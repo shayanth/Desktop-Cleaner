{
 "cells": [
  {
   "cell_type": "markdown",
   "metadata": {},
   "source": [
    "# Importing libraries to access files"
   ]
  },
  {
   "cell_type": "code",
   "execution_count": 1,
   "metadata": {},
   "outputs": [],
   "source": [
    "import os,shutil"
   ]
  },
  {
   "cell_type": "markdown",
   "metadata": {},
   "source": [
    "## Get address of the place you put the cleaner notebook"
   ]
  },
  {
   "cell_type": "code",
   "execution_count": 2,
   "metadata": {},
   "outputs": [],
   "source": [
    "address = os.getcwd()"
   ]
  },
  {
   "cell_type": "markdown",
   "metadata": {},
   "source": [
    "## Putting files in the right place "
   ]
  },
  {
   "cell_type": "code",
   "execution_count": null,
   "metadata": {},
   "outputs": [],
   "source": [
    "\n",
    "for file in os.listdir(\".\"):\n",
    "    # Pictures with formats bmp,png\n",
    "    if file.endswith(\".jpg\") or file.endswith(\".png\") or file.endswith(\".bmp\"):\n",
    "        try:\n",
    "            os.mkdir('pics')\n",
    "            shutil.move(f'{address}/{file}',f'{address}/pics/{file}')\n",
    "        except:\n",
    "            shutil.move(f'{address}/{file}',f'{address}/pics/{file}')\n",
    "\n",
    "    # Documents with format pdf,docx\n",
    "    elif file.endswith('.pdf') or file.endswith('.docx'):\n",
    "        try:\n",
    "            os.mkdir('pdf')\n",
    "            shutil.move(f'{address}/{file}',f'{address}/pdf/{file}')\n",
    "        except:\n",
    "            shutil.move(f'{address}/{file}',f'{address}/pdf/{file}')\n",
    "\n",
    "    # Adobe files with format xd,psd,ai,indd\n",
    "    elif file.endswith('.ai') or file.endswith('.xd') or file.endswith('.psd') or file.endswith('.indd'):\n",
    "        try:\n",
    "            os.mkdir('adobe stuff')\n",
    "            shutil.move(f'{address}/{file}',f'{address}/adobe stuff/{file}')\n",
    "        except:\n",
    "            shutil.move(f'{address}/{file}',f'{address}/adobe stuff/{file}')\n",
    "\n",
    "    # code files with format py,ipynb\n",
    "    elif file.endswith('.py') or file.endswith('.ipynb'):\n",
    "        try:\n",
    "            os.mkdir('python files')\n",
    "            shutil.move(f'{address}/{file}',f'{address}/python files/{file}')\n",
    "        except:\n",
    "            shutil.move(f'{address}/{file}',f'{address}/python files/{file}')\n",
    "\n",
    "            "
   ]
  },
  {
   "cell_type": "code",
   "execution_count": null,
   "metadata": {},
   "outputs": [],
   "source": []
  },
  {
   "cell_type": "code",
   "execution_count": null,
   "metadata": {},
   "outputs": [],
   "source": []
  },
  {
   "cell_type": "code",
   "execution_count": null,
   "metadata": {},
   "outputs": [],
   "source": []
  }
 ],
 "metadata": {
  "kernelspec": {
   "display_name": "Python 3",
   "language": "python",
   "name": "python3"
  },
  "language_info": {
   "codemirror_mode": {
    "name": "ipython",
    "version": 3
   },
   "file_extension": ".py",
   "mimetype": "text/x-python",
   "name": "python",
   "nbconvert_exporter": "python",
   "pygments_lexer": "ipython3",
   "version": "3.11.5"
  }
 },
 "nbformat": 4,
 "nbformat_minor": 2
}
